{
  "nbformat": 4,
  "nbformat_minor": 0,
  "metadata": {
    "colab": {
      "name": "colab_code.ipynb",
      "provenance": [],
      "collapsed_sections": [],
      "toc_visible": true
    },
    "kernelspec": {
      "name": "python3",
      "display_name": "Python 3"
    },
    "accelerator": "GPU"
  },
  "cells": [
    {
      "cell_type": "markdown",
      "metadata": {
        "id": "SVmJdtb7ZVbK"
      },
      "source": [
        "# Imports"
      ]
    },
    {
      "cell_type": "code",
      "metadata": {
        "id": "TMik1ksVZBcH",
        "colab": {
          "base_uri": "https://localhost:8080/"
        },
        "outputId": "51a47f50-41ed-4098-c5dd-dde4cf9a3897"
      },
      "source": [
        "# Import needed libraries\n",
        "import numpy as np\n",
        "import tensorflow as tf\n",
        "import pandas as pd\n",
        "\n",
        "import keras\n",
        "from keras.preprocessing import image\n",
        "from keras.preprocessing.image import ImageDataGenerator\n",
        "from keras.models import Sequential\n",
        "from keras.layers import Dense, Activation, Dropout, Flatten, Conv2D, MaxPool2D\n",
        "from keras.layers.normalization import BatchNormalization\n",
        "from keras import regularizers, optimizers, callbacks\n",
        "from tensorflow.keras.losses import categorical_crossentropy\n",
        "\n",
        "import cv2\n",
        "import requests\n",
        "import datetime\n",
        "import os\n",
        "from google.colab import drive\n",
        "drive.mount('/content/drive')\t# Connect with Google Drive\n",
        "\n",
        "import matplotlib.pyplot as plt\n",
        "import sklearn.metrics \n",
        "from sklearn.metrics import classification_report, confusion_matrix\n",
        "import pylab as pl\n",
        "\n",
        "\n",
        "# Print TensorFlow and Keras versions\n",
        "print(\"Tensorflow version %s\" %tf.__version__)\n",
        "print(\"Keras version %s\" %keras.__version__)\n",
        "\n",
        "\n",
        "# Force to use the GPU, otherise training would take too much time\n",
        "device_name = tf.test.gpu_device_name()\n",
        "if device_name != '/device:GPU:0': raise SystemError('GPU device not found')\n",
        "print('Found GPU at: {}'.format(device_name))\n",
        "print(\"\\n---------------------------------------------------------------\\n\")\n"
      ],
      "execution_count": null,
      "outputs": [
        {
          "output_type": "stream",
          "text": [
            "Mounted at /content/drive\n",
            "Tensorflow version 2.4.0\n",
            "Keras version 2.4.3\n",
            "Found GPU at: /device:GPU:0\n",
            "\n",
            "---------------------------------------------------------------\n",
            "\n"
          ],
          "name": "stdout"
        }
      ]
    },
    {
      "cell_type": "markdown",
      "metadata": {
        "id": "1GGjwiBzZb5w"
      },
      "source": [
        "# Load data"
      ]
    },
    {
      "cell_type": "code",
      "metadata": {
        "id": "lHrZ6KDYZJQF",
        "colab": {
          "base_uri": "https://localhost:8080/",
          "height": 271
        },
        "outputId": "b18d17f6-81ba-4872-db47-da9241f0e826"
      },
      "source": [
        "# Load data (4774 images from 20 classes)\n",
        "# Get data from https://drive.google.com/drive/folders/0Bxxqx_AAp2u2Zkp4cGxoNVEzb3M\n",
        "# Place data in a Google Drive folder and set the datadir variable below with the path of this folder\n",
        "\n",
        "datadir = '/content/drive/My Drive/Colab Notebooks/ARGOS_public'\n",
        "trainingset = datadir + '/train/'\n",
        "testset = datadir + '/test/'\n",
        "\n",
        "data_augmentation_level = 2   # Level of data augmentation [0: none, 1: low, 2: high]\n",
        "batch_size = 32               # 32 or 64 depending on situation\n",
        "input_shape = ()\n",
        "\n",
        "# Create training set below (with data augmentation)\n",
        "\n",
        "if data_augmentation_level == 0:\n",
        "    train_datagen = ImageDataGenerator(rescale = 1. / 255)\n",
        "    train_shuffle = False\n",
        "elif data_augmentation_level == 1:\n",
        "    train_datagen = ImageDataGenerator(\n",
        "        rescale = 1. / 255,\n",
        "        zoom_range = 0.1,\n",
        "        rotation_range = 10\n",
        "    )\n",
        "    train_shuffle = False\n",
        "else:    \n",
        "    train_datagen = ImageDataGenerator(\n",
        "    \trescale = 1. / 255,\n",
        "        zoom_range = 0.1,\n",
        "        rotation_range = 20,\n",
        "        width_shift_range = 0.1,\n",
        "        height_shift_range = 0.1,\n",
        "        horizontal_flip = True,\n",
        "        vertical_flip = False\n",
        "    )\n",
        "    train_shuffle = True\n",
        "\n",
        "train_generator = train_datagen.flow_from_directory(\n",
        "    directory = trainingset,\n",
        "    target_size = (224,224),\n",
        "    color_mode = \"rgb\",\n",
        "    batch_size = batch_size,\n",
        "    class_mode = \"categorical\",\n",
        "    shuffle = train_shuffle\n",
        ")\n",
        "\n",
        "# Create validation set below\n",
        "\n",
        "test_datagen = ImageDataGenerator(rescale = 1. / 255)\n",
        "\n",
        "test_generator = test_datagen.flow_from_directory(\n",
        "    directory = testset,\n",
        "    target_size = (224,224),\n",
        "    color_mode = \"rgb\",\n",
        "    batch_size = batch_size,\n",
        "    class_mode = \"categorical\",\n",
        "    shuffle = False\n",
        ")\n",
        "\n",
        "# Resulting numbers\n",
        "num_samples = train_generator.n\n",
        "num_classes = train_generator.num_classes\n",
        "input_shape = train_generator.image_shape\n",
        "classnames = [k for k,v in train_generator.class_indices.items()]\n",
        "\n",
        "print(\"Image input %s\" %str(input_shape))\n",
        "print(\"Classes: %r\" %classnames)\n",
        "print('Loaded %d training samples from %d classes.' %(num_samples,num_classes))\n",
        "print('Loaded %d test samples from %d classes.' %(test_generator.n,test_generator.num_classes))\n",
        "print('Data augmentation level: %d' %(data_augmentation_level))\n",
        "print(\"\\n---------------------------------------------------------------\\n\")\n",
        "\n",
        "\n",
        "\n",
        "# Show n random images\n",
        "'''\n",
        "n = 3\n",
        "x,y = train_generator.next()\t# x,y size is train_generator.batch_size\n",
        "\n",
        "for i in range(0,n):\n",
        "    image = x[i]\n",
        "    label = y[i].argmax()  \t\t# Categorical from one-hot-encoding\n",
        "    print(classnames[label])\n",
        "    plt.imshow(image)\n",
        "    plt.show()\n",
        "print(\"\\n---------------------------------------------------------------\\n\")\n",
        "'''\n"
      ],
      "execution_count": null,
      "outputs": [
        {
          "output_type": "stream",
          "text": [
            "Found 4774 images belonging to 20 classes.\n",
            "Found 1686 images belonging to 20 classes.\n",
            "Image input (224, 224, 3)\n",
            "Classes: ['Acqua', 'Alilaguna', 'Ambulanza', 'Barchino', 'Cacciapesca', 'Caorlina', 'Gondola', 'Lancia', 'Motobarca', 'Motopontonerettangolare', 'MotoscafoACTV', 'Mototopo', 'Patanella', 'Polizia', 'Raccoltarifiuti', 'Sandoloaremi', 'Sanpierota', 'Topa', 'VaporettoACTV', 'VigilidelFuoco']\n",
            "Loaded 4774 training samples from 20 classes.\n",
            "Loaded 1686 test samples from 20 classes.\n",
            "Data augmentation level: 2\n",
            "\n",
            "---------------------------------------------------------------\n",
            "\n"
          ],
          "name": "stdout"
        },
        {
          "output_type": "execute_result",
          "data": {
            "application/vnd.google.colaboratory.intrinsic+json": {
              "type": "string"
            },
            "text/plain": [
              "'\\nn = 3\\nx,y = train_generator.next()\\t# x,y size is train_generator.batch_size\\n\\nfor i in range(0,n):\\n    image = x[i]\\n    label = y[i].argmax()  \\t\\t# Categorical from one-hot-encoding\\n    print(classnames[label])\\n    plt.imshow(image)\\n    plt.show()\\nprint(\"\\n---------------------------------------------------------------\\n\")\\n'"
            ]
          },
          "metadata": {
            "tags": []
          },
          "execution_count": 2
        }
      ]
    },
    {
      "cell_type": "markdown",
      "metadata": {
        "id": "2e-YhmsyZe0F"
      },
      "source": [
        "# VGG16 Model definition"
      ]
    },
    {
      "cell_type": "code",
      "metadata": {
        "id": "AWMreqFOZMcf",
        "colab": {
          "base_uri": "https://localhost:8080/"
        },
        "outputId": "67a5612f-fadf-47cb-d1fa-69c5816bdfe7"
      },
      "source": [
        "# VGG16 model implementation\n",
        "\n",
        "def VGG16(input_shape, num_classes, lr=0.0001):\n",
        "  # Initializing a Sequential model\n",
        "  model = Sequential()\n",
        "\n",
        "  # Creating first block: (2 Convolution + 1 Max pool)\n",
        "  model.add(Conv2D(filters=64, kernel_size=(3,3), padding='same', activation='relu', input_shape=input_shape))\n",
        "  model.add(Conv2D(filters=64, kernel_size=(3,3), padding='same', activation='relu'))\n",
        "  model.add(MaxPool2D(pool_size=(2,2), strides=(2,2)))\n",
        "\n",
        "  # Creating second block: (2 Convolution + 1 Max pool)\n",
        "  model.add(Conv2D(filters=128, kernel_size=(3,3), padding='same', activation='relu'))\n",
        "  model.add(Conv2D(filters=128, kernel_size=(3,3), padding='same', activation='relu'))\n",
        "  model.add(MaxPool2D(pool_size=(2,2), strides=(2,2)))\n",
        "\n",
        "  # Creating third block: (3 Convolution + 1 Max pool)\n",
        "  model.add(Conv2D(filters=256, kernel_size=(3,3), padding='same', activation='relu'))\n",
        "  model.add(Conv2D(filters=256, kernel_size=(3,3), padding='same', activation='relu'))\n",
        "  model.add(Conv2D(filters=256, kernel_size=(3,3), padding='same', activation='relu'))\n",
        "  model.add(MaxPool2D(pool_size=(2,2), strides=(2,2)))\n",
        "\n",
        "  # Creating fourth block: (3 Convolution + 1 Max pool)\n",
        "  model.add(Conv2D(filters=512, kernel_size=(3,3), padding='same', activation='relu'))\n",
        "  model.add(Conv2D(filters=512, kernel_size=(3,3), padding='same', activation='relu'))\n",
        "  model.add(Conv2D(filters=512, kernel_size=(3,3), padding='same', activation='relu'))\n",
        "  model.add(MaxPool2D(pool_size= (2,2), strides=(2,2)))\n",
        "\n",
        "  # Creating fifth block: (3 Convolution + 1 Max pool)\n",
        "  model.add(Conv2D(filters=512, kernel_size=(3,3), padding='same', activation='relu'))\n",
        "  model.add(Conv2D(filters=512, kernel_size=(3,3), padding='same', activation='relu'))\n",
        "  model.add(Conv2D(filters=512, kernel_size=(3,3), padding='same', activation='relu'))\n",
        "  model.add(MaxPool2D(pool_size= (2,2), strides=(2,2)))\n",
        "\n",
        "  # Flattening the pooled image pixels\n",
        "  model.add(Flatten())\n",
        "\n",
        "  # Creating first Dense Layers with 0.5 Dropout and Batch Normalization\n",
        "  model.add(Dense(units=4096, activation='relu'))\n",
        "  model.add(Dropout(0.5))\n",
        "  model.add(BatchNormalization())\n",
        "\n",
        "  # Creating second Dense Layers with 0.5 Dropout and Batch Normalization\n",
        "  model.add(Dense(units=4096, activation='relu'))\n",
        "  model.add(Dropout(0.5))\n",
        "  model.add(BatchNormalization())\n",
        "\n",
        "  # Creating an output layer\n",
        "  model.add(Dense(units=num_classes, activation='softmax'))\n",
        "\n",
        "  # Compiling\n",
        "  adam = optimizers.Adam(lr=lr)\n",
        "  model.compile(optimizer=adam, loss='categorical_crossentropy', metrics=['accuracy'])\n",
        "\n",
        "  # Return the model\n",
        "  return model \n",
        "\n",
        "\n",
        "# Take the model\n",
        "model = VGG16(input_shape, num_classes)\n",
        "model.summary()\n",
        "print(\"\\n---------------------------------------------------------------\\n\")"
      ],
      "execution_count": null,
      "outputs": [
        {
          "output_type": "stream",
          "text": [
            "Model: \"sequential\"\n",
            "_________________________________________________________________\n",
            "Layer (type)                 Output Shape              Param #   \n",
            "=================================================================\n",
            "conv2d (Conv2D)              (None, 224, 224, 64)      1792      \n",
            "_________________________________________________________________\n",
            "conv2d_1 (Conv2D)            (None, 224, 224, 64)      36928     \n",
            "_________________________________________________________________\n",
            "max_pooling2d (MaxPooling2D) (None, 112, 112, 64)      0         \n",
            "_________________________________________________________________\n",
            "conv2d_2 (Conv2D)            (None, 112, 112, 128)     73856     \n",
            "_________________________________________________________________\n",
            "conv2d_3 (Conv2D)            (None, 112, 112, 128)     147584    \n",
            "_________________________________________________________________\n",
            "max_pooling2d_1 (MaxPooling2 (None, 56, 56, 128)       0         \n",
            "_________________________________________________________________\n",
            "conv2d_4 (Conv2D)            (None, 56, 56, 256)       295168    \n",
            "_________________________________________________________________\n",
            "conv2d_5 (Conv2D)            (None, 56, 56, 256)       590080    \n",
            "_________________________________________________________________\n",
            "conv2d_6 (Conv2D)            (None, 56, 56, 256)       590080    \n",
            "_________________________________________________________________\n",
            "max_pooling2d_2 (MaxPooling2 (None, 28, 28, 256)       0         \n",
            "_________________________________________________________________\n",
            "conv2d_7 (Conv2D)            (None, 28, 28, 512)       1180160   \n",
            "_________________________________________________________________\n",
            "conv2d_8 (Conv2D)            (None, 28, 28, 512)       2359808   \n",
            "_________________________________________________________________\n",
            "conv2d_9 (Conv2D)            (None, 28, 28, 512)       2359808   \n",
            "_________________________________________________________________\n",
            "max_pooling2d_3 (MaxPooling2 (None, 14, 14, 512)       0         \n",
            "_________________________________________________________________\n",
            "conv2d_10 (Conv2D)           (None, 14, 14, 512)       2359808   \n",
            "_________________________________________________________________\n",
            "conv2d_11 (Conv2D)           (None, 14, 14, 512)       2359808   \n",
            "_________________________________________________________________\n",
            "conv2d_12 (Conv2D)           (None, 14, 14, 512)       2359808   \n",
            "_________________________________________________________________\n",
            "max_pooling2d_4 (MaxPooling2 (None, 7, 7, 512)         0         \n",
            "_________________________________________________________________\n",
            "flatten (Flatten)            (None, 25088)             0         \n",
            "_________________________________________________________________\n",
            "dense (Dense)                (None, 4096)              102764544 \n",
            "_________________________________________________________________\n",
            "dropout (Dropout)            (None, 4096)              0         \n",
            "_________________________________________________________________\n",
            "batch_normalization (BatchNo (None, 4096)              16384     \n",
            "_________________________________________________________________\n",
            "dense_1 (Dense)              (None, 4096)              16781312  \n",
            "_________________________________________________________________\n",
            "dropout_1 (Dropout)          (None, 4096)              0         \n",
            "_________________________________________________________________\n",
            "batch_normalization_1 (Batch (None, 4096)              16384     \n",
            "_________________________________________________________________\n",
            "dense_2 (Dense)              (None, 20)                81940     \n",
            "=================================================================\n",
            "Total params: 134,375,252\n",
            "Trainable params: 134,358,868\n",
            "Non-trainable params: 16,384\n",
            "_________________________________________________________________\n",
            "\n",
            "---------------------------------------------------------------\n",
            "\n"
          ],
          "name": "stdout"
        }
      ]
    },
    {
      "cell_type": "markdown",
      "metadata": {
        "id": "A6ujb56v2y7x"
      },
      "source": [
        "# VGG19 Model definition"
      ]
    },
    {
      "cell_type": "code",
      "metadata": {
        "id": "Nrq7b8-42Ilq"
      },
      "source": [
        "# VGG19 model implementation\n",
        "\n",
        "def VGG19(input_shape, num_classes, lr=0.0001):\n",
        "    # Initializing a Sequential model\n",
        "    model = Sequential()\n",
        "\n",
        "    # Creating first block: (2 Convolution + 1 Max pool)\n",
        "    model.add(Conv2D(64, kernel_size=(3,3), padding='same', activation='relu', input_shape=input_shape))\n",
        "    model.add(Conv2D(64, kernel_size=(3,3), padding='same', activation='relu'))\n",
        "    model.add(MaxPool2D(pool_size=(2,2), strides= (2,2)))\n",
        "\n",
        "    # Creating second block: (2 Convolution + 1 Max pool)\n",
        "    model.add(Conv2D(128, kernel_size=(3,3), padding='same', activation='relu'))\n",
        "    model.add(Conv2D(128, kernel_size=(3,3), padding='same', activation='relu'))\n",
        "    model.add(MaxPool2D(pool_size=(2,2), strides= (2,2)))\n",
        "\n",
        "    # Creating third block: (4 Convolution + 1 Max pool)\n",
        "    model.add(Conv2D(256, kernel_size=(3,3), padding='same', activation='relu'))\n",
        "    model.add(Conv2D(256, kernel_size=(3,3), padding='same', activation='relu'))\n",
        "    model.add(Conv2D(256, kernel_size=(3,3), padding='same', activation='relu'))\n",
        "    model.add(Conv2D(256, kernel_size=(3,3), padding='same', activation='relu'))\n",
        "    model.add(MaxPool2D(pool_size=(2,2), strides= (2,2)))\n",
        "\n",
        "    # Creating fourth block: (4 Convolution + 1 Max pool)\n",
        "    model.add(Conv2D(512, kernel_size=(3,3), padding='same', activation='relu'))\n",
        "    model.add(Conv2D(512, kernel_size=(3,3), padding='same', activation='relu'))\n",
        "    model.add(Conv2D(512, kernel_size=(3,3), padding='same', activation='relu'))\n",
        "    model.add(Conv2D(512, kernel_size=(3,3), padding='same', activation='relu'))\n",
        "    model.add(MaxPool2D(pool_size=(2,2), strides= (2,2)))\n",
        "\n",
        "    # Creating fifth block: (4 Convolution + 1 Max pool)\n",
        "    model.add(Conv2D(512, kernel_size=(3,3), padding='same', activation='relu'))\n",
        "    model.add(Conv2D(512, kernel_size=(3,3), padding='same', activation='relu'))\n",
        "    model.add(Conv2D(512, kernel_size=(3,3), padding='same', activation='relu'))\n",
        "    model.add(Conv2D(512, kernel_size=(3,3), padding='same', activation='relu'))\n",
        "    model.add(MaxPool2D(pool_size=(2,2), strides= (2,2)))\n",
        "\n",
        "    # Flattening the pooled image pixels\n",
        "    model.add(Flatten())\n",
        "\n",
        "    # Creating first Dense Layers with 0.5 Dropout and Batch Normalization\n",
        "    model.add(Dense(4096, activation='relu'))\n",
        "    model.add(Dropout(0.5))\n",
        "    model.add(BatchNormalization())\n",
        "\n",
        "    # Creating second Dense Layers with 0.5 Dropout and Batch Normalization\n",
        "    model.add(Dense(4096, activation='relu'))\n",
        "    model.add(Dropout(0.5))\n",
        "    model.add(BatchNormalization())\n",
        "\n",
        "    # Creating an output layer\n",
        "    model.add(Dense(units=num_classes, activation='softmax'))\n",
        "\n",
        "    # Compiling\n",
        "    adam = optimizers.Adam(lr=lr)\n",
        "    model.compile(optimizer=adam, loss='categorical_crossentropy', metrics=['accuracy'])\n",
        "\n",
        "    # Return the model\n",
        "    return model\n",
        "\n",
        "\n",
        "# Take the model\n",
        "model = VGG19(input_shape, num_classes)\n",
        "model.summary()\n",
        "print(\"\\n---------------------------------------------------------------\\n\")\n"
      ],
      "execution_count": null,
      "outputs": []
    },
    {
      "cell_type": "markdown",
      "metadata": {
        "id": "2-xSQXQqZjeW"
      },
      "source": [
        "# Training"
      ]
    },
    {
      "cell_type": "code",
      "metadata": {
        "id": "5X5iWixYZPT8",
        "colab": {
          "base_uri": "https://localhost:8080/"
        },
        "outputId": "cb98d39c-690e-417f-ed8a-36437e649514"
      },
      "source": [
        "# Training process\n",
        "\n",
        "# Implementing an Early Stopping callback to terminate early in case of no or decreasing improvement \n",
        "#stopping = callbacks.EarlyStopping(monitor='val_accuracy', patience=3)\n",
        "\n",
        "steps_per_epoch = train_generator.n // train_generator.batch_size\n",
        "val_steps = test_generator.n // test_generator.batch_size + 1\n",
        "epochs = 30\n",
        "\n",
        "try:\n",
        "    history = model.fit(\n",
        "    \ttrain_generator,\n",
        "    \tepochs = epochs,\n",
        "    \tverbose = 1,\n",
        "      #callbacks = [stopping],\n",
        "      steps_per_epoch = steps_per_epoch,\n",
        "      validation_data = test_generator,\n",
        "      validation_steps = val_steps\n",
        ")\n",
        "except KeyboardInterrupt:\n",
        "    pass\n",
        "\n",
        "print(\"\\n---------------------------------------------------------------\\n\")\n"
      ],
      "execution_count": null,
      "outputs": [
        {
          "output_type": "stream",
          "text": [
            "Epoch 1/30\n",
            "149/149 [==============================] - 2483s 17s/step - loss: 2.5218 - accuracy: 0.3639 - val_loss: 1.8227 - val_accuracy: 0.4650\n",
            "Epoch 2/30\n",
            "149/149 [==============================] - 97s 652ms/step - loss: 1.4879 - accuracy: 0.6042 - val_loss: 1.0484 - val_accuracy: 0.7218\n",
            "Epoch 3/30\n",
            "149/149 [==============================] - 97s 653ms/step - loss: 1.2700 - accuracy: 0.6580 - val_loss: 0.8485 - val_accuracy: 0.7865\n",
            "Epoch 4/30\n",
            "149/149 [==============================] - 98s 658ms/step - loss: 1.1157 - accuracy: 0.7024 - val_loss: 0.9830 - val_accuracy: 0.7295\n",
            "Epoch 5/30\n",
            "149/149 [==============================] - 99s 665ms/step - loss: 0.9190 - accuracy: 0.7438 - val_loss: 0.9318 - val_accuracy: 0.7289\n",
            "Epoch 6/30\n",
            "149/149 [==============================] - 99s 663ms/step - loss: 0.9377 - accuracy: 0.7344 - val_loss: 0.8150 - val_accuracy: 0.7444\n",
            "Epoch 7/30\n",
            "149/149 [==============================] - 99s 660ms/step - loss: 0.7684 - accuracy: 0.7796 - val_loss: 0.7580 - val_accuracy: 0.7800\n",
            "Epoch 8/30\n",
            "149/149 [==============================] - 99s 660ms/step - loss: 0.8155 - accuracy: 0.7724 - val_loss: 0.6853 - val_accuracy: 0.8155\n",
            "Epoch 9/30\n",
            "149/149 [==============================] - 98s 657ms/step - loss: 0.7167 - accuracy: 0.7828 - val_loss: 0.5291 - val_accuracy: 0.8375\n",
            "Epoch 10/30\n",
            "149/149 [==============================] - 98s 657ms/step - loss: 0.6696 - accuracy: 0.8109 - val_loss: 0.6368 - val_accuracy: 0.8179\n",
            "Epoch 11/30\n",
            "149/149 [==============================] - 98s 659ms/step - loss: 0.6618 - accuracy: 0.7968 - val_loss: 0.4638 - val_accuracy: 0.8731\n",
            "Epoch 12/30\n",
            "149/149 [==============================] - 99s 661ms/step - loss: 0.5703 - accuracy: 0.8277 - val_loss: 0.5244 - val_accuracy: 0.8719\n",
            "Epoch 13/30\n",
            "149/149 [==============================] - 98s 659ms/step - loss: 0.6041 - accuracy: 0.8218 - val_loss: 0.5261 - val_accuracy: 0.8559\n",
            "Epoch 14/30\n",
            "149/149 [==============================] - 98s 658ms/step - loss: 0.5176 - accuracy: 0.8434 - val_loss: 0.6381 - val_accuracy: 0.8155\n",
            "Epoch 15/30\n",
            "149/149 [==============================] - 98s 659ms/step - loss: 0.5179 - accuracy: 0.8394 - val_loss: 0.5337 - val_accuracy: 0.8588\n",
            "Epoch 16/30\n",
            "149/149 [==============================] - 98s 657ms/step - loss: 0.5622 - accuracy: 0.8310 - val_loss: 0.5055 - val_accuracy: 0.8766\n",
            "Epoch 17/30\n",
            "149/149 [==============================] - 98s 655ms/step - loss: 0.4778 - accuracy: 0.8523 - val_loss: 0.4438 - val_accuracy: 0.8855\n",
            "Epoch 18/30\n",
            "149/149 [==============================] - 99s 662ms/step - loss: 0.4568 - accuracy: 0.8622 - val_loss: 0.5071 - val_accuracy: 0.8559\n",
            "Epoch 19/30\n",
            "149/149 [==============================] - 99s 661ms/step - loss: 0.4745 - accuracy: 0.8561 - val_loss: 0.3743 - val_accuracy: 0.8915\n",
            "Epoch 20/30\n",
            "149/149 [==============================] - 98s 657ms/step - loss: 0.4397 - accuracy: 0.8626 - val_loss: 0.3828 - val_accuracy: 0.9069\n",
            "Epoch 21/30\n",
            "149/149 [==============================] - 98s 654ms/step - loss: 0.4105 - accuracy: 0.8765 - val_loss: 0.3338 - val_accuracy: 0.9110\n",
            "Epoch 22/30\n",
            "149/149 [==============================] - 97s 653ms/step - loss: 0.3548 - accuracy: 0.8854 - val_loss: 0.4784 - val_accuracy: 0.8778\n",
            "Epoch 23/30\n",
            "149/149 [==============================] - 97s 652ms/step - loss: 0.3935 - accuracy: 0.8723 - val_loss: 0.3714 - val_accuracy: 0.9116\n",
            "Epoch 24/30\n",
            "149/149 [==============================] - 98s 656ms/step - loss: 0.3237 - accuracy: 0.8999 - val_loss: 0.3865 - val_accuracy: 0.9051\n",
            "Epoch 25/30\n",
            "149/149 [==============================] - 98s 655ms/step - loss: 0.3223 - accuracy: 0.9033 - val_loss: 0.4611 - val_accuracy: 0.8683\n",
            "Epoch 26/30\n",
            "149/149 [==============================] - 98s 654ms/step - loss: 0.3074 - accuracy: 0.9028 - val_loss: 0.3336 - val_accuracy: 0.9140\n",
            "Epoch 27/30\n",
            "149/149 [==============================] - 98s 656ms/step - loss: 0.2952 - accuracy: 0.9061 - val_loss: 1.8622 - val_accuracy: 0.6566\n",
            "Epoch 28/30\n",
            "149/149 [==============================] - 98s 655ms/step - loss: 0.3600 - accuracy: 0.8837 - val_loss: 0.4514 - val_accuracy: 0.8956\n",
            "Epoch 29/30\n",
            "149/149 [==============================] - 98s 654ms/step - loss: 0.3019 - accuracy: 0.9047 - val_loss: 0.3478 - val_accuracy: 0.9205\n",
            "Epoch 30/30\n",
            "149/149 [==============================] - 98s 657ms/step - loss: 0.2782 - accuracy: 0.9106 - val_loss: 0.4271 - val_accuracy: 0.8802\n",
            "\n",
            "---------------------------------------------------------------\n",
            "\n"
          ],
          "name": "stdout"
        }
      ]
    },
    {
      "cell_type": "markdown",
      "metadata": {
        "id": "ZoKhhiJzZli9"
      },
      "source": [
        "# Evaluation"
      ]
    },
    {
      "cell_type": "code",
      "metadata": {
        "id": "6Kb97PGkZR3l",
        "colab": {
          "base_uri": "https://localhost:8080/",
          "height": 1000
        },
        "outputId": "7d60eb46-726d-4521-99dd-b7d1b55e3a61"
      },
      "source": [
        "# Evaluation of the model\n",
        "\n",
        "\n",
        "# Accuracy on test set\n",
        "loss, acc = model.evaluate(test_generator,verbose=1,steps=val_steps)\n",
        "print('Test loss: %f' %loss)\n",
        "print('Test accuracy: %f' %acc)\n",
        "print(\"---------------------------------------------------------------\\n\")\n",
        "\n",
        "\n",
        "# Precision, recall and F1-score\n",
        "preds = model.predict(test_generator,verbose=1,steps=val_steps)\n",
        "Ypred = np.argmax(preds, axis=1)\n",
        "Ytest = test_generator.classes  # shuffle=False in test_generator\n",
        "#print(\"---------------------------------------------------------------\\n\")\n",
        "\n",
        "print(classification_report(Ytest, Ypred, labels=None, target_names=classnames, digits=3))\n",
        "print(\"---------------------------------------------------------------\\n\")\n",
        "\n",
        "\n",
        "# Confusion Matrix\n",
        "cm = confusion_matrix(Ytest, Ypred)\n",
        "print(cm, end=\"\\n\\n\")\n",
        "print(\"---------------------------------------------------------------\\n\")\n",
        "\n",
        "pl.matshow(cm)\n",
        "#pl.title(\"Confusion matrix of the classifier\")\n",
        "pl.colorbar()\n",
        "pl.show()\n",
        "print(\"---------------------------------------------------------------\\n\")\n",
        "\n",
        "\n",
        "# Plot results\n",
        "\n",
        "# summarize history for accuracy\n",
        "plt.plot(history.history['accuracy'])\n",
        "plt.plot(history.history['val_accuracy'])\n",
        "plt.title('model accuracy')\n",
        "plt.ylabel('accuracy')\n",
        "plt.xlabel('epoch')\n",
        "plt.legend(['train', 'test'], loc='upper left')\n",
        "plt.show()\n",
        "\n",
        "# summarize history for loss\n",
        "plt.plot(history.history['loss'])\n",
        "plt.plot(history.history['val_loss'])\n",
        "plt.title('model loss')\n",
        "plt.ylabel('loss')\n",
        "plt.xlabel('epoch')\n",
        "plt.legend(['train', 'test'], loc='upper left')\n",
        "plt.show()\n"
      ],
      "execution_count": null,
      "outputs": [
        {
          "output_type": "stream",
          "text": [
            "53/53 [==============================] - 10s 185ms/step - loss: 0.4271 - accuracy: 0.8802\n",
            "Test loss: 0.427134\n",
            "Test accuracy: 0.880190\n",
            "---------------------------------------------------------------\n",
            "\n",
            "53/53 [==============================] - 10s 188ms/step\n",
            "                         precision    recall  f1-score   support\n",
            "\n",
            "                  Acqua      0.988     0.981     0.984       420\n",
            "              Alilaguna      0.826     1.000     0.905        19\n",
            "              Ambulanza      0.792     0.864     0.826        22\n",
            "               Barchino      0.562     0.706     0.626        51\n",
            "            Cacciapesca      0.000     0.000     0.000         1\n",
            "               Caorlina      0.000     0.000     0.000         1\n",
            "                Gondola      0.000     0.000     0.000         3\n",
            "                 Lancia      0.929     0.952     0.940       355\n",
            "              Motobarca      0.474     0.627     0.540        59\n",
            "Motopontonerettangolare      1.000     1.000     1.000         3\n",
            "          MotoscafoACTV      1.000     1.000     1.000         1\n",
            "               Mototopo      0.982     0.775     0.866       284\n",
            "              Patanella      0.509     0.797     0.621        74\n",
            "                Polizia      0.444     0.800     0.571        15\n",
            "        Raccoltarifiuti      0.875     0.737     0.800        19\n",
            "           Sandoloaremi      0.167     0.333     0.222         3\n",
            "             Sanpierota      0.000     0.000     0.000         1\n",
            "                   Topa      0.500     0.069     0.121        29\n",
            "          VaporettoACTV      0.997     0.957     0.976       325\n",
            "         VigilidelFuoco      0.000     0.000     0.000         1\n",
            "\n",
            "               accuracy                          0.880      1686\n",
            "              macro avg      0.552     0.580     0.550      1686\n",
            "           weighted avg      0.900     0.880     0.882      1686\n",
            "\n",
            "---------------------------------------------------------------\n",
            "\n",
            "[[412   0   0   1   3   0   0   2   0   0   0   0   1   0   0   0   0   0\n",
            "    1   0]\n",
            " [  0  19   0   0   0   0   0   0   0   0   0   0   0   0   0   0   0   0\n",
            "    0   0]\n",
            " [  1   0  19   0   0   0   0   1   0   0   0   0   0   1   0   0   0   0\n",
            "    0   0]\n",
            " [  0   0   0  36   0   0   0   1   0   0   0   0  13   1   0   0   0   0\n",
            "    0   0]\n",
            " [  0   0   0   1   0   0   0   0   0   0   0   0   0   0   0   0   0   0\n",
            "    0   0]\n",
            " [  0   0   0   0   0   0   0   1   0   0   0   0   0   0   0   0   0   0\n",
            "    0   0]\n",
            " [  0   0   0   1   0   0   0   0   0   0   0   0   1   0   0   1   0   0\n",
            "    0   0]\n",
            " [  3   0   0   1   0   0   0 338   1   0   0   0   2  10   0   0   0   0\n",
            "    0   0]\n",
            " [  0   0   0   0   1   0   0   7  37   0   0   4   7   1   1   1   0   0\n",
            "    0   0]\n",
            " [  0   0   0   0   0   0   0   0   0   3   0   0   0   0   0   0   0   0\n",
            "    0   0]\n",
            " [  0   0   0   0   0   0   0   0   0   0   1   0   0   0   0   0   0   0\n",
            "    0   0]\n",
            " [  1   0   5   1   0   0   0   5  28   0   0 220  18   1   1   2   0   2\n",
            "    0   0]\n",
            " [  0   0   0  12   1   0   0   2   0   0   0   0  59   0   0   0   0   0\n",
            "    0   0]\n",
            " [  0   0   0   0   1   0   0   2   0   0   0   0   0  12   0   0   0   0\n",
            "    0   0]\n",
            " [  0   0   0   1   0   0   0   1   3   0   0   0   0   0  14   0   0   0\n",
            "    0   0]\n",
            " [  0   0   0   2   0   0   0   0   0   0   0   0   0   0   0   1   0   0\n",
            "    0   0]\n",
            " [  0   0   0   0   0   0   0   1   0   0   0   0   0   0   0   0   0   0\n",
            "    0   0]\n",
            " [  0   0   0   8   1   0   0   1   1   0   0   0  15   0   0   1   0   2\n",
            "    0   0]\n",
            " [  0   4   0   0   0   0   0   2   8   0   0   0   0   0   0   0   0   0\n",
            "  311   0]\n",
            " [  0   0   0   0   0   0   0   0   0   0   0   0   0   1   0   0   0   0\n",
            "    0   0]]\n",
            "\n",
            "---------------------------------------------------------------\n",
            "\n"
          ],
          "name": "stdout"
        },
        {
          "output_type": "stream",
          "text": [
            "/usr/local/lib/python3.6/dist-packages/sklearn/metrics/_classification.py:1272: UndefinedMetricWarning: Precision and F-score are ill-defined and being set to 0.0 in labels with no predicted samples. Use `zero_division` parameter to control this behavior.\n",
            "  _warn_prf(average, modifier, msg_start, len(result))\n"
          ],
          "name": "stderr"
        },
        {
          "output_type": "display_data",
          "data": {
            "image/png": "[encoded data removed]",
            "text/plain": [
              "<Figure size 288x288 with 2 Axes>"
            ]
          },
          "metadata": {
            "tags": [],
            "needs_background": "light"
          }
        },
        {
          "output_type": "stream",
          "text": [
            "---------------------------------------------------------------\n",
            "\n"
          ],
          "name": "stdout"
        },
        {
          "output_type": "display_data",
          "data": {
            "image/png": "[encoded data removed]",
            "text/plain": [
              "<Figure size 432x288 with 1 Axes>"
            ]
          },
          "metadata": {
            "tags": [],
            "needs_background": "light"
          }
        },
        {
          "output_type": "display_data",
          "data": {
            "image/png": "[encoded data removed]",
            "text/plain": [
              "<Figure size 432x288 with 1 Axes>"
            ]
          },
          "metadata": {
            "tags": [],
            "needs_background": "light"
          }
        }
      ]
    }
  ]
}